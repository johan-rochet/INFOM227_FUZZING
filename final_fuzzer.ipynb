{
 "cells": [
  {
   "cell_type": "code",
   "execution_count": 287,
   "metadata": {},
   "outputs": [],
   "source": [
    "from fuzzingbook.Grammars import Grammar, Expansion, srange\n",
    "\n",
    "from fuzzingbook.GrammarFuzzer import GrammarFuzzer\n",
    "from isla.solver import ISLaSolver, SemanticError\n",
    "from fuzzingbook.Parser import EarleyParser, display_tree\n",
    "from fuzzingbook.MutationFuzzer import FunctionCoverageRunner\n",
    "from fuzzingbook.GreyboxGrammarFuzzer import  FragmentMutator, PowerSchedule, LangFuzzer, SeedWithStructure, print_stats  \n",
    "from fuzzingbook.Coverage import population_coverage\n",
    "from fuzzingbook.GrammarCoverageFuzzer import GrammarCoverageFuzzer, extend_grammar, duplicate_context\n",
    "from fuzzingbook.GreyboxFuzzer import Seed\n",
    "from fuzzingbook.Timeout import Timeout\n",
    "import time\n",
    "from typing import List\n",
    "import string\n",
    "import csv\n",
    "import logging\n",
    "from pandas.errors import ParserError, EmptyDataError\n",
    "import pandas as pd\n",
    "\n",
    "from tqdm import tqdm\n",
    "\n",
    "from ordered_set import OrderedSet\n",
    "\n",
    "\n"
   ]
  },
  {
   "cell_type": "code",
   "execution_count": 288,
   "metadata": {},
   "outputs": [],
   "source": [
    "list_ascii_printable = list(string.printable)\n",
    "list_ascii_printable.remove('\"')\n",
    "list_ascii_printable.remove(\"\\r\")\n",
    "list_ascii_printable.remove(\"\\n\")\n",
    "list_ascii_printable.remove(\",\")\n",
    "\n",
    "list_char: List[Expansion] = srange(\"\".join(list_ascii_printable))\n",
    "\n",
    "CSV_GRAMMMAR: Grammar = {\n",
    "    \"<start>\": [\"<csv-file>\"],\n",
    "    \"<csv-file>\": [\"<hdr>\", \"<rows>\"],\n",
    "    \"<rows>\": [\"<row>\", \"<row><crlf><rows>\", \"<row><crlf>\"],\n",
    "    \"<hdr>\": [\"<row>\"],\n",
    "    \"<row>\" : [\"<fields>\"],\n",
    "    \"<fields>\": [\"<field>\", \"<field><comma><fields>\"],\n",
    "    \"<field>\": [\"<TEXT>\", \"<STRING>\", \"\"],\n",
    "    \"<TEXT>\": [\"<character>\", \"<character><TEXT>\"],\n",
    "    \"<STRING>\": [\"<dblquote><list_character><dblquote>\", \"<dblquote><dblquote>\"],\n",
    "    \"<list_character>\": [\n",
    "        \"<character>\",\n",
    "        \"<character><list_character>\",\n",
    "        \"<dblquote><dblquote><list_character>\",\n",
    "    ],\n",
    "    \"<character>\": list_char,\n",
    "    \"<dblquote>\": [chr(34)],\n",
    "    \"<comma>\": [\",\"],\n",
    "    \"<crlf>\": [\"\\r\\n\"],\n",
    "}\n",
    "START_SYMBOL = \"<start>\""
   ]
  },
  {
   "cell_type": "code",
   "execution_count": 289,
   "metadata": {},
   "outputs": [],
   "source": [
    "dup_CSV_GRAMMMAR = extend_grammar(CSV_GRAMMMAR)\n",
    "\n",
    "duplicate_context(dup_CSV_GRAMMMAR, \"<rows>\", \"<row><rows>\")\n",
    "duplicate_context(dup_CSV_GRAMMMAR, \"<rows>\", \"<row><crlf><rows>\")\n",
    "duplicate_context(dup_CSV_GRAMMMAR, \"<fields>\", \"<field><comma><fields>\")\n",
    "duplicate_context(dup_CSV_GRAMMMAR, \"<TEXT>\", \"<character><TEXT>\")\n",
    "duplicate_context(dup_CSV_GRAMMMAR, \"<list_character>\", \"<character><list_character>\")\n",
    "duplicate_context(dup_CSV_GRAMMMAR, \"<STRING>\", \"<dblquote><dblquote><list_character>\")\n",
    "\n",
    "dup_gram_cov_fuzzer: GrammarCoverageFuzzer = GrammarCoverageFuzzer(dup_CSV_GRAMMMAR, start_symbol=START_SYMBOL, max_nonterminals= 50)"
   ]
  },
  {
   "cell_type": "code",
   "execution_count": 290,
   "metadata": {},
   "outputs": [],
   "source": [
    "solver = ISLaSolver(CSV_GRAMMMAR, # type: ignore\n",
    "                    '''    \n",
    "                    exists int nb_comma :\n",
    "                        exists <row> r : \n",
    "                            (count(r, \"<comma>\", nb_comma)\n",
    "                            and \n",
    "                            forall <row> row in <rows>:\n",
    "                                count(row, \"<comma>\", nb_comma))\n",
    "                    '''\n",
    "                    )       "
   ]
  },
  {
   "cell_type": "code",
   "execution_count": 291,
   "metadata": {},
   "outputs": [],
   "source": [
    "seeds: list[SeedWithStructure] = []\n",
    "syntax_erroneous_inputs = []\n",
    "semantic_erroneous_inputs = []\n",
    "def parse_input(input: str)  -> str:\n",
    "    f = open(\"test.csv\", \"w\")\n",
    "    f.write(input)\n",
    "    f.close()\n",
    "    with open(\"test.csv\", newline=\"\") as f:\n",
    "        csv.reader(f)\n",
    "\n",
    "    pd.read_csv(\"test.csv\", delimiter=\",\", engine=\"python\")\n",
    "    \n",
    "    return input\n",
    "\n",
    "def fuzz_for_seeds(fuzzer: GrammarFuzzer) :\n",
    "    error= False\n",
    "    fuzz = fuzzer.fuzz()\n",
    "\n",
    "    try : \n",
    "        solver.parse(fuzz)\n",
    "    except SyntaxError as e:\n",
    "        syntax_erroneous_inputs .append(fuzz)\n",
    "        error = True\n",
    "    except SemanticError as e:\n",
    "        semantic_erroneous_inputs.append(fuzz)\n",
    "        error = True\n",
    "\n",
    "    try :  \n",
    "        seeds.append(SeedWithStructure(parse_input(fuzz)))\n",
    "    except ParserError as e:\n",
    "        if not error : \n",
    "            logging.error(\"ParserError : \" + str(e) + \"\\n\" + fuzz + \"\\n\")\n",
    "        \n",
    "\n",
    "    except EmptyDataError as e:\n",
    "        if not error : \n",
    "            logging.error(\"EmptyDataError : \" + str(e) + \"\\n\" + fuzz + \"\\n\")\n",
    "        "
   ]
  },
  {
   "cell_type": "code",
   "execution_count": 292,
   "metadata": {},
   "outputs": [
    {
     "name": "stderr",
     "output_type": "stream",
     "text": [
      "  0%|          | 0/5127 [00:00<?, ?it/s]"
     ]
    },
    {
     "name": "stderr",
     "output_type": "stream",
     "text": [
      "ERROR:root:EmptyDataError : No columns to parse from file\n",
      "\n",
      "\n",
      "  4%|▍         | 196/5127 [00:00<00:17, 281.67it/s]ERROR:root:EmptyDataError : No columns to parse from file\n",
      "\"\"\n",
      "\n",
      "  8%|▊         | 432/5127 [00:03<00:45, 102.47it/s]ERROR:root:EmptyDataError : No columns to parse from file\n",
      "\u000b\n",
      "\n",
      " 29%|██▊       | 1473/5127 [00:14<00:29, 125.18it/s]ERROR:root:EmptyDataError : No columns to parse from file\n",
      "\t\n",
      "\n",
      " 37%|███▋      | 1915/5127 [00:19<00:26, 119.20it/s]ERROR:root:EmptyDataError : No columns to parse from file\n",
      "\f\n",
      "\n",
      "\n",
      " 40%|████      | 2057/5127 [00:20<00:29, 105.37it/s]ERROR:root:EmptyDataError : No columns to parse from file\n",
      " \n",
      "\n",
      "\n",
      " 94%|█████████▍| 4826/5127 [04:37<01:15,  3.99it/s] ERROR:root:EmptyDataError : No columns to parse from file\n",
      "\f\n",
      "\"\t\"\n",
      "\n",
      "\n",
      "100%|██████████| 5127/5127 [06:18<00:00, 13.56it/s]\n"
     ]
    }
   ],
   "source": [
    "seeds: list[SeedWithStructure] = []\n",
    "open(\"tests.log\", \"w\").close()\n",
    "total_coverage = len(dup_gram_cov_fuzzer.max_expansion_coverage())\n",
    "coverage = 0\n",
    "for i in tqdm(range(total_coverage)):\n",
    "    while coverage == i :\n",
    "        fuzz_for_seeds(dup_gram_cov_fuzzer)\n",
    "        coverage = total_coverage - len(dup_gram_cov_fuzzer.max_expansion_coverage() - dup_gram_cov_fuzzer.expansion_coverage())"
   ]
  },
  {
   "cell_type": "code",
   "execution_count": 293,
   "metadata": {},
   "outputs": [
    {
     "name": "stdout",
     "output_type": "stream",
     "text": [
      "240\n",
      "846\n"
     ]
    }
   ],
   "source": [
    "print(len(semantic_erroneous_inputs))\n",
    "print(len(seeds))"
   ]
  },
  {
   "cell_type": "code",
   "execution_count": 294,
   "metadata": {},
   "outputs": [],
   "source": [
    "n=1000\n",
    "runner = FunctionCoverageRunner(parse_input)\n",
    "parser = EarleyParser(CSV_GRAMMMAR)\n",
    "mutator = FragmentMutator(parser)\n",
    "schedule = PowerSchedule()\n",
    "\n",
    "\n",
    "\n",
    "lang_fuzzer = LangFuzzer([seed.data for seed in seeds], mutator, schedule)\n",
    "\n",
    "start = time.time()\n",
    "lang_fuzzer.runs(runner, trials=n)\n",
    "end = time.time()\n",
    "\n"
   ]
  },
  {
   "cell_type": "code",
   "execution_count": 295,
   "metadata": {},
   "outputs": [
    {
     "name": "stdout",
     "output_type": "stream",
     "text": [
      "From the 1000 generated inputs, 732 (73.20%) can be parsed.\n",
      "In total, 2019 statements are covered.\n"
     ]
    }
   ],
   "source": [
    "# Ordered set to avoid duplicates for later performance\n",
    "syntax_error = OrderedSet([])\n",
    "semantic_error = OrderedSet([])\n",
    "other_error = OrderedSet([])\n",
    "parsed_inputs = OrderedSet([])\n",
    "\n",
    "def sort_seed(seed: Seed) -> int:\n",
    "    try:\n",
    "        solver.parse(seed.data, silent=True)\n",
    "        \n",
    "        \n",
    "    except SyntaxError:\n",
    "        syntax_error.add(seed.data)\n",
    "        return 0\n",
    "    except SemanticError:\n",
    "        semantic_error.add(seed.data)\n",
    "        return 0\n",
    "    except Exception:\n",
    "        other_error.add(seed.data)\n",
    "        return 0\n",
    "    else: \n",
    "        parsed_inputs.add(seed.data)\n",
    "        return 1\n",
    "    \n",
    "    \n",
    "\n",
    "coverage, _ = population_coverage(lang_fuzzer.inputs, parse_input)\n",
    "\n",
    "has_structure = 0\n",
    "for seed in lang_fuzzer.inputs:\n",
    "    # reuse memoized information\n",
    "    if hasattr(seed, \"has_structure\"):\n",
    "        \n",
    "        has_structure += sort_seed(seed)  # type: ignore\n",
    "    else:\n",
    "        if isinstance(seed, str):\n",
    "            seed = Seed(seed)\n",
    "        has_structure +=  sort_seed(seed) \n",
    "        \n",
    "\n",
    "print(\"From the %d generated inputs, %d (%0.2f%%) can be parsed.\\n\"\n",
    "        \"In total, %d statements are covered.\" % (\n",
    "        len(lang_fuzzer.inputs),\n",
    "        has_structure,\n",
    "        100 * has_structure / len(lang_fuzzer.inputs),\n",
    "        len(coverage)))"
   ]
  },
  {
   "cell_type": "code",
   "execution_count": 296,
   "metadata": {},
   "outputs": [
    {
     "name": "stdout",
     "output_type": "stream",
     "text": [
      "693\n",
      "8\n",
      "229\n",
      "0\n"
     ]
    }
   ],
   "source": [
    "print(len(parsed_inputs))\n",
    "print(len(syntax_error))\n",
    "print(len(semantic_error))\n",
    "print(len(other_error))"
   ]
  },
  {
   "cell_type": "code",
   "execution_count": 297,
   "metadata": {},
   "outputs": [],
   "source": [
    "\n",
    "wrongly_parsed_inputs = []\n",
    "wrongly_parsed_inputs_syntax = []\n",
    "wrongly_parsed_inputs_semantic = []\n",
    "wrongly_parsed_inputs_other = []\n",
    "\n",
    "def check_correct_input(input : str) -> None :\n",
    "    try : \n",
    "        parse_input(input)\n",
    "    except Exception as e:\n",
    "        wrongly_parsed_inputs.append(input)\n",
    "\n",
    "\n",
    "\n",
    "def check_semantic_incorrect_input(input : str) -> None :\n",
    "    try : \n",
    "        parse_input(input)\n",
    "        wrongly_parsed_inputs_semantic.append(input)\n",
    "        \n",
    "    except (ParserError , EmptyDataError) :\n",
    "        pass\n",
    "    except Exception as e:\n",
    "        wrongly_parsed_inputs_semantic.append(input)\n",
    "\n",
    "def check_syntax_incorrect_input(input : str) -> None :\n",
    "    try : \n",
    "        parse_input(input)\n",
    "        wrongly_parsed_inputs_syntax.append(input)\n",
    "        \n",
    "    except (ParserError , EmptyDataError) :\n",
    "        pass\n",
    "    except Exception as e:\n",
    "        wrongly_parsed_inputs_other.append(input)\n",
    "\n",
    "def check_other_incorrect_input(input : str) -> None :\n",
    "\n",
    "    try : \n",
    "        parse_input(input)\n",
    "        wrongly_parsed_inputs_other.append(input)\n",
    "        \n",
    "    except Exception as e:\n",
    "        pass"
   ]
  },
  {
   "cell_type": "code",
   "execution_count": 298,
   "metadata": {},
   "outputs": [
    {
     "name": "stdout",
     "output_type": "stream",
     "text": [
      "7\n",
      "2\n",
      "229\n",
      "0\n"
     ]
    }
   ],
   "source": [
    "\n",
    "for correct_input in parsed_inputs:\n",
    "    check_correct_input(correct_input)\n",
    "print(len(wrongly_parsed_inputs))\n",
    "for syntax_error_input in syntax_error:\n",
    "    check_syntax_incorrect_input(syntax_error_input)\n",
    "print(len(wrongly_parsed_inputs_syntax))\n",
    "for semantic_error_input in semantic_error:\n",
    "    check_semantic_incorrect_input(semantic_error_input)\n",
    "print(len(wrongly_parsed_inputs_semantic))\n",
    "for other_error_input in other_error:\n",
    "    check_other_incorrect_input(other_error_input)\n",
    "\n",
    "print(len(wrongly_parsed_inputs_other))"
   ]
  },
  {
   "cell_type": "code",
   "execution_count": 299,
   "metadata": {},
   "outputs": [
    {
     "name": "stdout",
     "output_type": "stream",
     "text": [
      "['\\r\\n', '\\r\\n\" \"\\r\\n', '\" \"\\r\\n', '\"\"\\r\\n', '\"\"', '\\x0b', '\" \"']\n",
      "[',|\"\\r\\n', '\"\",Qz\"']\n",
      "['\\r\\n\"\"\\r\\n,', 'B,,\"\",\"\"\\r\\n,\\r\\n', 'P\\r\\n,\"5\",3t,B\\r\\n\\r\\nCj,\"\"', '\"9\"\"%\"\\r\\n\"\",},\"\"\\r\\n', '\"Z\",vn|\\r\\ny!', \"'?,.\\r\\n>P\\r\\n\", 'G\\r\\n\"v\"\"|\",e2,i,\"t\"\\r\\n', 'O,],*aN,Hi,_\\r\\nfB', '#o\\r\\nF0J2)v,U,n,kfn\\r\\n', '3z,\\\\C,$\\r\\ns,r,IN)I,A,n', 'n,|v6,w&\\x0c,7,8\\r\\nO\\r\\n', '>,%~,{R\\r\\nx\\x0c', 'D\\r\\n:,_^,tgK,T=,;J3\\r\\n', '0E%2\\r\\nz0,6*52,/E,X-', \"y/J,IW,8u,',y\\r\\n\\x0b'i\\r\\na\", 'f#R,)$,^B&\\r\\nA\\r\\n6\\x0c\\r\\n&\\r\\nv\\r\\n', '=\\r\\nw,P$3,A,C;\\r\\n', 'X,fF\\r\\n}', '1V,E,f,\\tK(\\r\\ncN,|tH:', '!#\\r\\nmdm,(,#\\r\\n', \"[/Y\\r\\nw,k',p,-$@@,J\", '-h>\\r\\n\\\\3,8', '>M,WZ,b,5\\r\\nq\\r\\n', 'J+\\r\\nP,lL,\\x0c[\\r\\n', '0,BP,n8,:V\\r\\n?KT', '~a&J\\r\\nAE,{,Or,lyb\\r\\n', 'Q,PA*,-,u_kd,r\\r\\n<', 'IB\\r\\n>,bg#,u,>9|', 'e,DT,h,b\\r\\n`:o', '@.,YX\\r\\n6@Tey\\r\\n', '~G,A,li\\r\\nt<z,_,\\x0c7,luB,Z', '1*\\r\\n(w9,H,%O,V+,N,h\\r\\n', '^S;,\\x0b\\t,71,>S\\r\\n[I1', 'K]t0U,H,\\\\,Y,C\\r\\nJ\\r\\n', 't\\r\\n),}xW,y', '\\x0c6y,4l,( ,m1\\r\\nol,~,p`\\x0c,p]OV\\r\\n)?,0,LW\\r\\n@\\r\\nRK_\\r\\nU=2', 'jV{\\r\\n=z,%,!xY\\x0c,6\\r\\n', '?\\r\\nK\\x0b,},?,m^% T,i', 'im,RF,|,<d\\r\\n:jz1\\r\\n', \"sq+,!p,5,xU!,9\\r\\n*x,e,q'q,:\\r\\n\", \"28w/\\r\\n>\\x0b,Il`,(,tfJ'9,u?S\\x0b\\r\\n\\x0c*,\\\\,U,|y\\r\\n7\\r\\n)\\r\\nb6\", 'q\\r\\n+,`{,wt', 'Z(,`,gbmr,=T[\\r\\nz\\r\\n', 'Ok\\x0ck\\r\\nR,~uf,\\t~,(&^\\r\\n', 'g,K,r\\x0b,d:.),m\\r\\n9', 'I\\r\\ng,~5O', 'e;7\\r\\n:m,[0c,.,lkq', '_,$E\\r\\nnUt\\r\\n', ' D,9,\\tc,s\\r\\n~', 'z\\x0b!\\r\\nM,[7,k\\t_%,!=,{,ubG,3$/Z\\r\\nr,Rw,x\\r\\n&|,i|i,9\\r\\n-,F\\r\\nXM\\r\\n', 'c#,J/,MI,=e2[,Dh\\r\\n*,;,Wkb,E5\\r\\n', 'e\\r\\n=,&,2i36,s', '},:,3\\x0c\\r\\nL{\\r\\n', 'X_O\\r\\nMB,w\\r\\n', '\"=\"\"k=\",\"E\",\"L\",\\x0c,9o+W,\"2\\x0b.3\",\"F\"\\r\\n/j\\r\\n', '\"5\"\\r\\n|.,F,5/,3.\\r\\n', '\"q\",\"5v\",\"$FJe\",\"fJ\",\"4\"\\r\\n*\\x0b\\x0cnd', '\"v\"\\r\\n;,!S,+f,.F,8\\t,x,c', '\"W\"\\r\\n90,ZB\\'\\r\\n', '\"x\",\" &i*\"\\r\\n;<\\r\\n~\\\\\\r\\n(\\r\\n\\'', '\"&a\",\"BW\",\"+\",\"]HX\",\"Q\"\\r\\nNF', '\"8G\"\\r\\n@/p>?,g,0=\\r\\n', '\"I?\"\\r\\n(M\\t1,w&d,|vY,{', '\"V{\"\\r\\n$,\\x0c\\\\,Y,}\\r\\n', '\">\",\"T)UngD\",\"O5\",\"^T\"\\r\\nge^', '\"C\",\"}\",\"B\",\"d\",\"-}c\",\"/\"\\r\\nb#h,5,v4p,BL&,U\\r\\n', '\"X\"\\r\\n5,D,L,V,Jyj-,=d8,$H', '\"s\\\\&\",\"In\",\"7\",\"e*r\"\\r\\n&\\r\\n', '\"]\",\"F\",\"{Y>t\",\"iL?/\",\")\"\\r\\n\\t\\r\\nDb\\r\\n2qv\\r\\nGJ;\\r\\ns\\r\\n', '\";\"\\r\\nu,6,7\\r\\n', '\"N.C\"\\r\\n}f8,k,O\\x0b9\\r\\n', '\"u\",\"j\",\"K\",\"2\"\\r\\nvb,Vk,#,j,6X,),I\\r\\n*/$rE,g,5],g\\r\\n+B,7c, zx,l\\t{\\r\\nN', '\"|<8R\",\"abJ\"\\r\\ng', '\"7\\'w\"\\r\\n ,3zl', '\"w\",\"\\'\",\"vl\",\"m\"\\r\\nm\\r\\n', '\"H\"\\r\\nk,Osa\\'[,D9,]\\x0c,%,m[', '\" r8\",\"^\",\"hbl3#Y\",\"H\",\"o\"\\r\\nQ8 W,aZ<,T,I,V,I\\r\\n', '\"1\",\"M\"\\r\\nh?\\r\\n', '\" \",\"RUd\"\\r\\n@', '\"V\",\"\\x0c7yMg\",\"9\",\"Cp\"\\r\\na\\\\\\r\\n', '\"B\"\\r\\nZ,r~,U,\\\\', '\"0];\\x0b\"\\r\\n6`C<l,M,D,\\tK\\r\\n', '\"r\",\"`\",\"eax?\",\"dA\",\"~\",\"|\",\"\\'\"\\r\\nn\\r\\n\\\\Vs\\r\\nwX=\\r\\nC\\r\\nD', '\"\\x0c\"\\r\\n?AC,J,I', '\"06_-\",\"xFS\"\\r\\nSUG,;>*,>', '\"(~c\"\\r\\nrXy,4\\r\\n', '\"\\x0b\",\"(N\",\"9S!\",\"*\",\"\\\\\",\"`\"\\r\\n~ou\\r\\n', '\"_\"\\r\\nss,DCD,H,{x} ,>\\r\\nmI,y,t2\\r\\nZV,Y,U&U\\r\\nbj4\\r\\n<3\\r\\n),U`,@,sT\\r\\n', '\"qtRT\",\"6\",\"GP\",\"XM\",\"J+y\"\\r\\na_)', '\"<?:O\"\\r\\n`,~qK,\\\\,H,\\x0bL(, w', '\"A$\",\"Z(\",\"u\"\\r\\n-cd,o|,c,E\\r\\n', '\"%b\",\"mz%\",\"f\",\"i\",\"\\\\\"\\r\\nRL\\r\\n', '\"7\"\\r\\n:H1,] ,a,f\\r\\n', '\"NV2\",\"tcI\"\\r\\ni,He,V4R,/,Y$', '\"4@\",\"W0\",\"o\",\"\\t~\"\\r\\n8x-\\r\\n', '\"zn+\"\\r\\nyis\\x0b,X,%R\\r\\n', '\"uG\",\"{\",\"\\x0b@\"\\r\\nQ', '\"j*\\tp\",\"#\",\"C)\",\"6hg.\"\\r\\nPb,F7Wp$,x', '\"[`\\x0c\",\":\",\"a\"\\r\\nht,*.a\\r\\n', '\"!1\"\\r\\n^,y,O,GjY', '\"+U\",\"Kz\",\"~1O\",\"S[#\"\\r\\n(\\r\\n', '\";\",\"/\\t\",\"@_\",\"[\",\"YZ>P\"\\r\\n@Q\\',W,#h,aq},K,:\\r\\nm,g^,L\\r\\nNT,\"\"\"LN\",h7a\\r\\nzj,s,)K>\\r\\n', '\"[\"\\r\\neQ4,P,EBTQ,5', '\"Q<\",\"\\'cI\",\"D\"\\r\\njI7Z,D.-,!,x\\r\\n', '\"Dp4\",\"^y\",\"S\",\"\"\"\\x0c6\",\"\"\"\"\"\"\"W\",\"k\"\\r\\nv,`', '\"qBU\"\\r\\n<,Xl,2A ', ',\"\"\"e\"\\r\\nW9]+\\r\\n', 'P\\r\\nZ}hq,\"k_}\",\"f\"\" ^\"', '\"\",\"\",\"\"\">\"\"Q.h\"\"_\"\"L\"\"w0z\"\\r\\nZ\\r\\n', '\"y@Z\",,\"\"\\r\\n\"gzs\",\"%\",\"I\",\")h\\x0c\"\\r\\n', '\"\"\"q\",\"\"\"wI\"\\r\\n\"q\"\\r\\n', '\"4\"\\r\\n\"/=d;\\'\",\"P\",\"D\",\"V\",\"9N\",\"E-\",\"^-\"\\r\\n', 'l\\t,\\x0c,\"\",\\r\\n\"W-\"', ' ,\\r\\n\"$\"', '\"\\'\",\"\",\"0\"\"J{\"\\r\\n\">\"\\r\\n\"Z\"\\r\\n\"S\"\\r\\n', '^,\"p\",\"S\\\\k\"\"\"\"\"\"\"\"2T\"\\r\\n\"mt#\"\\r\\n', '\"\"\\r\\n\"{\",\"FE)\",\"i\",\"3g\",\"[bs\",\"I\",\"9\"', '\"Y\",\"*\"\\r\\n\"4\"\\r\\n', ',\\r\\n\"oOy\",\"+QW\",\"o\",\" 06\"\\r\\n', '\"\"\\r\\n\"9\",\"}=\",\"D`\",\"1Kf\",\"6B(U\"\\r\\n\"BC<\",\"&s\",\"3\",\"|\"\\r\\n\"L\",\"[\"\\r\\n\"x&!\"\\r\\n\"6\"\\r\\n\"}n\"', ',\\r\\n\"C\"', 'Vjjb,\"\"\"\"\"1\",\\r\\n\"`8\",\"GT\",\"i\",\"^Y(\",\"]A~\"\\r\\n', '\"\"\"#\",,\\r\\n\"  \",\"P\\tX\",\"N9\",\"\\x0b`\",\"%j\",\"j4\\'\"', 'd,\\r\\n\")\"\\r\\n', 'w8,,,DJ\\r\\n\"F\"', ',(,\"OS\"\\r\\n\"`\\t=uy\"\\r\\n\"\\' \"', '\"\",)\\r\\n\"lO[\"', '\"G\"\"d\",\"\"\\r\\n\")Jt2\\'\",\"e*\",\"[u\",\"`</\",\"(oa+R\",\"G\"\\r\\n\"+\",\"x\",\".\"\\r\\n\"@\",\"K\",\"X\",\"k^52\"\\r\\n\"T\"\\r\\n\"\\\\R\"\\r\\n\"/y5\"\\r\\n', '\"\"\"M\",\\\\,,G,\" \",}\\r\\n\"M\",\"VWt\",\"w|\",\"Ro\",\"N\"', ',\\r\\n\"a.n\"\\r\\n', 'y1`,%*m-,},\"\"\"`\",\\r\\n\"o\"', '\"\"\\r\\n\"X4a\",\"q\",\"CS\",\"c\"', '\"y\",njMb|\\r\\n\"[\",\"a\",\"rCf\",\"X\",\"F\"\\r\\n', '\"\",,\\r\\n\"}@\"\\r\\n', '\"\"\"R\",\\r\\n\"|\"', '\"\"\"l\",\"\",\"2Y\",\"\"\\r\\n\"jgA\"\\r\\n', '\\r\\n\"JU\",\"^\",\"8fY\",\"6T\",\"c;\"', ',\"]\"\"N*\",,\"\",\\r\\n\"1\"\\r\\n\"C=\"\\r\\n\"KH*\"\\r\\n\"\\'=\",\"jJ\",\"FyS@\",\"Ah3\",\"HJ\"\\r\\n', '\"\"\"$j\",p,>\\r\\n\"+\"', ',,\"^M\"\\r\\n\"Q\"\\r\\n', '\"\"\\r\\n\"(?\",\"+\",\"*;$\",\"KH\",\"]y\"', '}X,,\\x0b,,M%,\\r\\n\"Kxo\"\\r\\n', '\"-\"\"\"\"\"\"\"\"\"\"\"\")~\"\"zp\",\\r\\n\"v\",\"2\",\"#*5&\",\"j7\",\"q\",\"%?8\",\"J\",\":\"\\r\\n\"|Z\",\"h\",\"\\x0cF\",\"v\"\\r\\n\"At\",\"T0\",\"?+\"\\r\\n\"kU\\x0bI\",\"g_\"\\r\\n\"M\"\\r\\n', ',\"_\"\"\"\"\\x0b\",\"\"\"[/\",?,\\r\\n\"v#i\"\\r\\n', ',u\\r\\n\"T|\"\\r\\n', '\"\"\"\"\"\"\".\",,\"I\"\"0\"\"\"\"\\x0bQD}n\"\\r\\n\"q\",\"m\",\"ic\",\"V\"\\r\\n', ',\\r\\n\"vk\"', '\"R\",\\r\\n\"ej\"', '\\r\\n\"t\",\"{A\",\"\\x0c\",\"3z%\"\\r\\n', '\"\"\\r\\n\"\\x0b6wk\",\"\\x0c:\",\"9\",\"WF\",\"}\"\\r\\n', '8,\\\\,p>,\\r\\n\"D\\\\\",\"I1\",\"p\",\"`<.\",\"H\\t\",\"\\x0b\"', '\"\",6,\\r\\n\"I\"\\r\\n\"\\x0cM\"\\r\\n\"d@\"\\r\\n\"_In\"\\r\\n\"cR\"\\r\\n', '\"\"\"U\",,TN\\r\\n\"{\"\\r\\n', '\"R\",r0\\r\\n\"LP\"', '\"\",EG,[\\r\\n\"FIG\"\\r\\n', '$,\"0\"\"5\",,,\\r\\n\"es.\",\"Zm>1\",\"v\"\\r\\n', '\"F\",0\\r\\n\"s\"\\r\\n\"@Y\"\\r\\n\"VYJ\"\\r\\n\"#R\"', ',,\"\"\"T\"\\r\\n\"hF\",\"m.=\",\"k\",\"f\",\"@/\",\"SJ(\"', '\"%\",\\r\\n\"MP%2\"\\r\\n', '6,\"oX/\"\"\"\"*\",b{r\\x0b8,,\"<;\"\"\"\"\"\"|\",\"\"\\r\\n\"%\"', ',\"\",,y\\td,\"W\",\\r\\n\"NK\"', ',\"\"\\r\\n\"]\",\"\\\\\",\"C\",\"%P2\",\"K\",\"p\",\"\\\\\"\\r\\n', ':,\"2#s\"\"$\",,,\"\",,\\x0c\\r\\n\"TY!\",\"5e\",\"[\",\"!\"', '\"/\"\"Z4\",\\r\\n\"c-ad\",\"N};\",\"\\t\\x0bb\"\\r\\n', ',\"K\", t\\r\\n\"eB25\",\"cl\",\"V\",\"oD\",\")\"', '\"\",a\\r\\n\"1Y?\"\\r\\n', '\"\",s,I,\"\"\"PFW\",\"a\",,\"\",,~\\t/m\\r\\n\"<Q\"', '\"\",B.\\r\\n\"~\",\"r\",\"\\\\/\",\"h\"\\r\\n', '?,9\\r\\n\"GU\"', '\"\",\\'GIa?\\r\\n\"]v\",\"B\",\"c\",\"UAnw\",\"nw\"', '\\t[X`*:A2@:\\r\\n\"U1B)?\",\"[(4\",\"&\",\"L\",\"D\"\\r\\n', '\"\",t]B^,\"\"\\r\\n\"P\"\\r\\n', '\"\",\\r\\n\"]\"', '\"\"\\r\\n\"O\",\"5R\",\"0E\",\"b\",\"|MS\",\"&.\"\\r\\n', ',2X\\',5um)se|\\r\\n\">\",\"^M_\",\"E\",\"S6\",\"aAR#\"', 'jM,,z\\r\\n\"dBf[\"\\r\\n', 'TY,U\\r\\n\"?\"', ',/f}\\r\\n\"$\",\"3<\",\"l# \",\"t^\",\"l\"\\r\\n', '7*,\"\"\\r\\n\"e\"', '^,,U_,q<O,\"%\"\\r\\n\"T\\t\"', 't \\'[,\"\"\"9\"\"c\",,,\"\"\\r\\n\"}O\",\"&d3\",\"sK\",\";U.-L\"', '\"\"\\r\\n\"z\",\"VqH\",\"M\",\"]_\",\"*U\",\"?8{\",\"E;\"\\r\\n', '\\r\\n\"\\'z\",\"m\",\"ZW\",\"8\"', '\"9\"\"/R>\",o-H,\"A\",,,F uT^y(\\r\\n\")\"\\r\\n\"5\"\\r\\n\"w~V\"\\r\\n\"pX\"\\r\\n\";\\x0b\"\\r\\n\"{\"\\r\\n\"!S\"\\r\\n\"W\"', '[\\r\\n\"~@\",\"i/y:7\",\"4\",\"Q\",\"Z\"', 'j$,\"\",\"8\",,,}\\r\\n\"Jl+\"\\r\\n', '\"\"\"\"\"|\"\"\"\"2\"\\r\\n\"zr@:^\",\"o\",\"{\",\"_\",\"V8/g\",\"{2h\"\\r\\n\"S\",\"lX;\",\"/1/\"\\r\\n\"m\",\"W\"\\r\\n\"\\x0c\"\\r\\n\"2wf\"\\r\\n', ';,>I,,\\r\\n\"s3\\x0c\"', '\"TDfUYx\",\"\"\\r\\n\"L0\",\"I)\",\"\\t\",\"JkZ\",\".g\",\"e\"\\r\\n', '\"\"\"1\",,,,C\\r\\n\"oH\"', ',\\r\\n\")\\\\\"', '=ui2A,oV2\\r\\n\"=*\",\"0\",\"q{d\",\"Yq\"', 'a5,\\r\\n\"a\"\\r\\n', '9,=7,\\r\\n\"<uO>\"\\r\\n', 'v,\"T\"\"$x\"\"\"\"n\"\"\\x0bH*\",n,,\"\",\\r\\n\"T\"\\r\\n', ',,\"\"\"5{|\", \\r\\n\"(\"\\r\\n', '\\r\\n\"<$e\",\"B\",\"~#\",\"QN3\"\\r\\n', '\\r\\n\"&\"\\r\\n\"C\",\"r\\'\",\"$:\",\"gP\",\"|N\",\"t\"', 'T\\r\\n\"u\",\"\\txXn\",\"v\",\"j\",\"z\"\\r\\n', '\"}}\",\"V#\"\\r\\n\"V\"', '@#,iKC\\r\\n\"_5r\"', '\"\"\\r\\n\"L0-\",\"-Z\",\"h\",\"!zy\",\"\\x0c\",\"9B\"', ',\"4%S1zE\"\"\"\"N\"\";]\"\\r\\n\"?7!\"\\r\\n', '\"\",\"\",]\\r\\n\"L/\"\\r\\n', '\"\"\\r\\n\"!p7\",\"Kx\",\"7\"\\r\\n', ',\\r\\n\"d.\"', ',\"5\"\"U\"\"!=5\",_%,\"\"\\r\\n\"0qa\"', 'r\\r\\n\"+\",\"&w\",\"7T*\",\"L\"\\r\\n', ',\\r\\n\"i{2\"', '\"1\"\"\"\":\",,\\r\\n\"\\\\7&\",\"G<\",\"u%\",\"g\"', '_+Il,\\'\\r\\n\"r\"\\r\\n', ',c\\r\\n\"pD:\"\\r\\n', '7,,8,*&`V,E\\r\\n\"4\"', ',,\\x0c ,#.X,gf.n`,x,\"1\"\"O\"\"\\x0cFd\"\"n\"\\r\\n\">A}\"\\r\\n\"MsO\"\\r\\n\";\"\\r\\n\"i\",\";G\",\"nb\",\"h!U\",\":\\t\"\"`\"\"K\\x0b\"\"R\",\"\"\"6\",\"B\"\\r\\n\"Q>G\",\"j8\",\"~\",\"`\"', ',,\\r\\n\"f\"', '\"\",\"\"\\r\\n\"Z1h\"', ',,\"\",,n,t;\\r\\n\"N\"\\r\\n', '\\x0b,\\r\\n\"#O\\x0b\",\"n\",\"1\",\"FO\"', ' %R,\"\"\"<8%\"\\r\\n\"\\\\seY\"\\r\\n', '\"R\",r\\r\\n\"LP\"', '8,,,DJ\\r\\n\"F\"', ';,\\r\\n\"s3\\x0c\"', '\"\",,\"\"\"1\",,,,C\\r\\n\"}@\"\\r\\n', '_,$}H\\r\\nnUt\\r\\n', ';,,,\\r\\n\"ux\"', '\\r\\n_,$E\\r\\n', '\"(~c\"\\r\\nrZ,4\\r\\n', '\\r\\n+,`{,wt', '\"\",,sR7M\\r\\n\"}@\"\\r\\n']\n",
      "[]\n"
     ]
    }
   ],
   "source": [
    "print(wrongly_parsed_inputs)\n",
    "print(wrongly_parsed_inputs_syntax)\n",
    "print(wrongly_parsed_inputs_semantic)\n",
    "print(wrongly_parsed_inputs_other)\n",
    "\n",
    "\n"
   ]
  }
 ],
 "metadata": {
  "kernelspec": {
   "display_name": "my_env",
   "language": "python",
   "name": "python3"
  },
  "language_info": {
   "codemirror_mode": {
    "name": "ipython",
    "version": 3
   },
   "file_extension": ".py",
   "mimetype": "text/x-python",
   "name": "python",
   "nbconvert_exporter": "python",
   "pygments_lexer": "ipython3",
   "version": "3.10.13"
  }
 },
 "nbformat": 4,
 "nbformat_minor": 2
}
